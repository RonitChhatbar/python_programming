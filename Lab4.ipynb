{
 "cells": [
  {
   "cell_type": "markdown",
   "metadata": {},
   "source": [
    "\n",
    "<a href='https://www.darshan.ac.in/'> <img src='https://www.darshan.ac.in/Content/media/DU_Logo.svg' width=\"250\" height=\"300\"/></a>\n",
    "<pre>\n",
    "<center><b><h1>Python Programming - 2101CS405</b></center>\n",
    "<center><b><h1>Lab - 4</b></center>    \n",
    "<pre>"
   ]
  },
  {
   "cell_type": "markdown",
   "metadata": {},
   "source": [
    "# String"
   ]
  },
  {
   "cell_type": "markdown",
   "metadata": {},
   "source": [
    "### 01) WAP to check given string is palindrome or not."
   ]
  },
  {
   "cell_type": "code",
   "execution_count": 1,
   "metadata": {},
   "outputs": [
    {
     "name": "stdout",
     "output_type": "stream",
     "text": [
      "palindrome\n"
     ]
    }
   ],
   "source": [
    "str = input(\"Enter str:\")\n",
    "a=str[::-1]\n",
    "if str==a:\n",
    "    print(\"palindrome\");\n",
    "else:\n",
    "    print(\"no\");"
   ]
  },
  {
   "cell_type": "markdown",
   "metadata": {},
   "source": [
    "### 02) WAP to reverse the words in given string."
   ]
  },
  {
   "cell_type": "code",
   "execution_count": 19,
   "metadata": {},
   "outputs": [
    {
     "name": "stdout",
     "output_type": "stream",
     "text": [
      "Enter string: hello\n",
      "olleh\n"
     ]
    }
   ],
   "source": [
    "str=input(\"Enter string: \")\n",
    "a=str[::-1]\n",
    "print(a)"
   ]
  },
  {
   "cell_type": "markdown",
   "metadata": {},
   "source": [
    "### 03) WAP to remove ith character from given string"
   ]
  },
  {
   "cell_type": "code",
   "execution_count": 5,
   "metadata": {},
   "outputs": [
    {
     "name": "stdout",
     "output_type": "stream",
     "text": [
      "Enter a String : hello\n",
      "Enter index: 2\n",
      "he\n",
      "lo\n",
      "helo\n"
     ]
    }
   ],
   "source": [
    "s = input(\"Enter a String : \")\n",
    "index = int(input(\"Enter index: \"))\n",
    "\n",
    "print(s[0:index:]) #first part of string after giving index\n",
    "print(s[index+1::]) #seconde part of string after giving index\n",
    "\n",
    "print(s[0:index:]+s[index+1::]) #concat"
   ]
  },
  {
   "cell_type": "markdown",
   "metadata": {},
   "source": [
    "### 04) WAP to find length of String without using len function."
   ]
  },
  {
   "cell_type": "code",
   "execution_count": 23,
   "metadata": {},
   "outputs": [
    {
     "name": "stdout",
     "output_type": "stream",
     "text": [
      "enter str:hello\n",
      "5\n"
     ]
    }
   ],
   "source": [
    "str = input(\"enter str:\")\n",
    "len = 0;\n",
    "for i in str:\n",
    "    len=len+1;\n",
    "print(len)\n"
   ]
  },
  {
   "cell_type": "markdown",
   "metadata": {},
   "source": [
    "### 05) WAP to print even length word in string."
   ]
  },
  {
   "cell_type": "code",
   "execution_count": 2,
   "metadata": {},
   "outputs": [
    {
     "name": "stdout",
     "output_type": "stream",
     "text": [
      "abcd ab "
     ]
    }
   ],
   "source": [
    "word = input(\"Enter a string : \")\n",
    "b=word.split(\" \")\n",
    "for i in  b:\n",
    "    # print(len(i))\n",
    "    if(len(i)%2 == 0):\n",
    "        print(i,end=\" \")"
   ]
  },
  {
   "cell_type": "markdown",
   "metadata": {},
   "source": [
    "### 06) WAP to count numbers of vowels in given string."
   ]
  },
  {
   "cell_type": "code",
   "execution_count": 10,
   "metadata": {},
   "outputs": [
    {
     "name": "stdout",
     "output_type": "stream",
     "text": [
      "vowels: 4\n",
      "there are 4 vowels in 'hello its me'\n"
     ]
    }
   ],
   "source": [
    "s = input(\"Enter string: \")\n",
    "s = s.lower()\n",
    "vowels = \"aeiou\"\n",
    "count = 0\n",
    "for i in s:\n",
    "    if i in vowels:\n",
    "        count += 1\n",
    "print(\"vowels:\", count)\n",
    "print(f\"there are {count} vowels in '{s}'\")\n"
   ]
  },
  {
   "cell_type": "markdown",
   "metadata": {},
   "source": [
    "### 07) WAP to convert given array to string."
   ]
  },
  {
   "cell_type": "code",
   "execution_count": 13,
   "metadata": {},
   "outputs": [
    {
     "name": "stdout",
     "output_type": "stream",
     "text": [
      "['hi', 'hello', 'hello']\n",
      "hi hello hello\n"
     ]
    }
   ],
   "source": [
    "a = []\n",
    "\n",
    "n = int(input(\"Enter n:\"))\n",
    "for i in range(0,n):\n",
    "    s = input(\"Enter word:\")\n",
    "    a.append(s)\n",
    "\n",
    "print(a)\n",
    "print(\" \".join(a))"
   ]
  },
  {
   "cell_type": "markdown",
   "metadata": {},
   "source": [
    "### 01) WAP to find out duplicate characters in given string."
   ]
  },
  {
   "cell_type": "code",
   "execution_count": 22,
   "metadata": {},
   "outputs": [
    {
     "name": "stdout",
     "output_type": "stream",
     "text": [
      "Enter string:abc is not acb\n",
      "a b c   "
     ]
    }
   ],
   "source": [
    "s = input(\"Enter string:\");\n",
    "\n",
    "a = []\n",
    "for i in s:\n",
    "    if s.count(i) > 1 and (i not in a):\n",
    "        a.append(i)\n",
    "        print(i,end=' ')"
   ]
  },
  {
   "cell_type": "markdown",
   "metadata": {},
   "source": [
    "### 02) WAP to capitalize the first and last character of each word in a string."
   ]
  },
  {
   "cell_type": "code",
   "execution_count": 16,
   "metadata": {},
   "outputs": [
    {
     "name": "stdout",
     "output_type": "stream",
     "text": [
      "['GooD', 'MorninG']\n"
     ]
    }
   ],
   "source": [
    "s = input(\"Enter s:\")\n",
    "\n",
    "a = []\n",
    "for i in s.split(' '):\n",
    "    word = i[0].upper()+i[1:-1:]+i[-1].upper();\n",
    "    a.append(word)\n",
    "print(a)\n"
   ]
  },
  {
   "cell_type": "markdown",
   "metadata": {},
   "source": [
    "### 03) WAP to find Maximum frequency character in String."
   ]
  },
  {
   "cell_type": "code",
   "execution_count": 6,
   "metadata": {},
   "outputs": [
    {
     "name": "stdout",
     "output_type": "stream",
     "text": [
      "Enter a string: helllo\n",
      "Maximum frequency character: l\n",
      "Frequency: 3\n"
     ]
    }
   ],
   "source": [
    "input_string = input(\"Enter a string: \")\n",
    "\n",
    "char_frequency = {}\n",
    "\n",
    "for char in input_string:\n",
    "    if char in char_frequency:\n",
    "        char_frequency[char] += 1\n",
    "    else:\n",
    "        char_frequency[char] = 1\n",
    "\n",
    "max_char = max(char_frequency, key=char_frequency.get)\n",
    "\n",
    "print(\"Maximum frequency character:\", max_char)\n",
    "print(\"Frequency:\", char_frequency[max_char])\n"
   ]
  },
  {
   "cell_type": "markdown",
   "metadata": {},
   "source": [
    "### 04) WAP to find Minimum frequency character in String."
   ]
  },
  {
   "cell_type": "code",
   "execution_count": 7,
   "metadata": {},
   "outputs": [
    {
     "name": "stdout",
     "output_type": "stream",
     "text": [
      "Enter a string: hello from hi\n",
      "Minimum frequency character: e\n",
      "Frequency: 1\n"
     ]
    }
   ],
   "source": [
    "input_string = input(\"Enter a string: \")\n",
    "char_frequency = {}\n",
    "\n",
    "for char in input_string:\n",
    "    if char in char_frequency:\n",
    "        char_frequency[char] += 1\n",
    "    else:\n",
    "        char_frequency[char] = 1\n",
    "\n",
    "min_char = min(char_frequency, key=char_frequency.get)\n",
    "\n",
    "print(\"Minimum frequency character:\", min_char)\n",
    "print(\"Frequency:\", char_frequency[min_char])\n"
   ]
  },
  {
   "cell_type": "markdown",
   "metadata": {},
   "source": [
    "### 05) WAP to check if a given string is binary string or not"
   ]
  },
  {
   "cell_type": "code",
   "execution_count": 44,
   "metadata": {},
   "outputs": [
    {
     "name": "stdout",
     "output_type": "stream",
     "text": [
      "Enter a String : abc\n",
      "Not a Binary String\n"
     ]
    }
   ],
   "source": [
    "s = input(\"Enter a String : \")\n",
    "\n",
    "for i in s:\n",
    "    if i not in '01':\n",
    "        print(\"Not a Binary String\")\n",
    "        break;\n",
    "        \n",
    "else:\n",
    "    print(\"Binary String\")"
   ]
  }
 ],
 "metadata": {
  "kernelspec": {
   "display_name": "Python 3 (ipykernel)",
   "language": "python",
   "name": "python3"
  },
  "language_info": {
   "codemirror_mode": {
    "name": "ipython",
    "version": 3
   },
   "file_extension": ".py",
   "mimetype": "text/x-python",
   "name": "python",
   "nbconvert_exporter": "python",
   "pygments_lexer": "ipython3",
   "version": "3.12.2"
  },
  "vscode": {
   "interpreter": {
    "hash": "31f2aee4e71d21fbe5cf8b01ff0e069b9275f58929596ceb00d14d90e3e16cd6"
   }
  }
 },
 "nbformat": 4,
 "nbformat_minor": 4
}
