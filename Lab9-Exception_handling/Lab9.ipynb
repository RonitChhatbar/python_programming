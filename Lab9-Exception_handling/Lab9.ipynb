{
 "cells": [
  {
   "cell_type": "markdown",
   "metadata": {},
   "source": [
    "<a href='https://www.darshan.ac.in/'> <img src='https://www.darshan.ac.in/Content/media/DU_Logo.svg' width=\"250\" height=\"300\"/></a>\n",
    "<pre>\n",
    "<center><b><h1>Python Programming - 2101CS405</b></center>\n",
    "<center><b><h1>Lab - 9</b></center>    \n",
    "<pre>"
   ]
  },
  {
   "cell_type": "markdown",
   "metadata": {},
   "source": [
    "# Exception Handling"
   ]
  },
  {
   "cell_type": "markdown",
   "metadata": {},
   "source": [
    "# A"
   ]
  },
  {
   "cell_type": "markdown",
   "metadata": {},
   "source": [
    "### 01) WAP to handle divide by zero exception."
   ]
  },
  {
   "cell_type": "code",
   "execution_count": 3,
   "metadata": {},
   "outputs": [
    {
     "name": "stdout",
     "output_type": "stream",
     "text": [
      "Error: 10 Can't divide by 0\n",
      "Error: 10 can't divide by 0\n"
     ]
    }
   ],
   "source": [
    "a = 10\n",
    "try:\n",
    "    b = a/0\n",
    "    print(b)\n",
    "except:\n",
    "    print('Error:',a,'Can\\'t divide by 0')\n",
    "    print(f'Error: {a} can\\'t divide by 0')#str interpolation"
   ]
  },
  {
   "cell_type": "markdown",
   "metadata": {},
   "source": [
    "### 02)  Write a Python program that inputs a number and generates an error message if it is not a number."
   ]
  },
  {
   "cell_type": "code",
   "execution_count": 20,
   "metadata": {},
   "outputs": [
    {
     "name": "stdout",
     "output_type": "stream",
     "text": [
      "Error: That's not a number!\n"
     ]
    }
   ],
   "source": [
    "try:\n",
    "    num = int(input(\"Enter a number: \"))\n",
    "    print(\"You entered\",num)\n",
    "except:\n",
    "    print(\"Error: That's not a number!\")\n",
    "\n"
   ]
  },
  {
   "cell_type": "markdown",
   "metadata": {},
   "source": [
    "### 03) WAP to handle file not found Exception"
   ]
  },
  {
   "cell_type": "code",
   "execution_count": 5,
   "metadata": {},
   "outputs": [
    {
     "name": "stdout",
     "output_type": "stream",
     "text": [
      "Error:file not found\n",
      "[Errno 2] No such file or directory: 'filess.txt'\n"
     ]
    }
   ],
   "source": [
    "try:\n",
    "    a = int(input())\n",
    "    f = open('filess.txt')\n",
    "    print('file found')\n",
    "except FileNotFoundError as e:\n",
    "    print(\"Error:file not found\")\n",
    "    print(e)#exceptional args\n",
    "except ValueError:\n",
    "    print('Error:please enter int value')#multiple except blocks"
   ]
  },
  {
   "cell_type": "markdown",
   "metadata": {},
   "source": [
    "### 04) WAP to handle type Exception."
   ]
  },
  {
   "cell_type": "code",
   "execution_count": 51,
   "metadata": {},
   "outputs": [
    {
     "name": "stdout",
     "output_type": "stream",
     "text": [
      "Error:Can't cast str to int\n"
     ]
    }
   ],
   "source": [
    "try:\n",
    "    n = 10\n",
    "    s = 'hello'\n",
    "    ans = n+s\n",
    "    print(ans)\n",
    "except TypeError:\n",
    "    print('Error:Can\\'t cast str to int')\n"
   ]
  },
  {
   "cell_type": "markdown",
   "metadata": {},
   "source": [
    "### 05) WAP to demonstrate valueError and indexError with example."
   ]
  },
  {
   "cell_type": "code",
   "execution_count": 6,
   "metadata": {},
   "outputs": [
    {
     "name": "stdout",
     "output_type": "stream",
     "text": [
      "invalid literal for int() with base 10: 'abc'\n"
     ]
    }
   ],
   "source": [
    "try:\n",
    "    num = int(input(\"Enter number:\"))\n",
    "    print(num)\n",
    "except ValueError as e:\n",
    "    print(e)"
   ]
  },
  {
   "cell_type": "code",
   "execution_count": 8,
   "metadata": {},
   "outputs": [
    {
     "name": "stdout",
     "output_type": "stream",
     "text": [
      "list index out of range\n"
     ]
    }
   ],
   "source": [
    "try:\n",
    "    l = [1,2,3]\n",
    "    print(l[3])\n",
    "except IndexError as e:\n",
    "    print(e)"
   ]
  },
  {
   "cell_type": "markdown",
   "metadata": {},
   "source": [
    "### 06) WAP to domonstrate else  and finally block."
   ]
  },
  {
   "cell_type": "code",
   "execution_count": 15,
   "metadata": {},
   "outputs": [
    {
     "name": "stdout",
     "output_type": "stream",
     "text": [
      "Enter num:2\n",
      "2\n",
      "Else block\n"
     ]
    }
   ],
   "source": [
    "try:\n",
    "    num = int(input(\"Enter num:\"))\n",
    "    print(num)\n",
    "except ValueError as e:\n",
    "    print(e)\n",
    "else:\n",
    "    print(\"Else block\")"
   ]
  },
  {
   "cell_type": "code",
   "execution_count": 17,
   "metadata": {},
   "outputs": [
    {
     "name": "stdout",
     "output_type": "stream",
     "text": [
      "Enter num:a\n",
      "invalid literal for int() with base 10: 'a'\n",
      "FINALLY always called\n"
     ]
    }
   ],
   "source": [
    "try:\n",
    "    num = int(input(\"Enter num:\"))\n",
    "    print(num)\n",
    "except ValueError as e:\n",
    "    print(e)\n",
    "else:\n",
    "    print(\"Else block\")\n",
    "finally:\n",
    "    print(\"FINALLY always called\")"
   ]
  },
  {
   "cell_type": "markdown",
   "metadata": {},
   "source": [
    "### 07) Create a short program that prompts the user for a list of grades separated by commas. Split the string into individual grades and use a list comprehension to convert each string to an integer. You should use a try statement to inform the user when the values they entered cannot be converted."
   ]
  },
  {
   "cell_type": "code",
   "execution_count": 33,
   "metadata": {},
   "outputs": [
    {
     "name": "stdout",
     "output_type": "stream",
     "text": [
      "Enter grades w comma separated:a,b\n",
      "invalid literal for int() with base 10: 'a'\n"
     ]
    }
   ],
   "source": [
    "try:\n",
    "    a = input(\"Enter grades w comma separated:\")\n",
    "    li = [int(i) for i in a.split(\",\") ]\n",
    "    print(li)\n",
    "except ValueError as e:\n",
    "    print(e)"
   ]
  },
  {
   "cell_type": "markdown",
   "metadata": {},
   "source": [
    "# B"
   ]
  },
  {
   "cell_type": "markdown",
   "metadata": {},
   "source": [
    "### 01) WAP to Raising User Generated Exception."
   ]
  },
  {
   "cell_type": "code",
   "execution_count": 9,
   "metadata": {},
   "outputs": [
    {
     "name": "stdout",
     "output_type": "stream",
     "text": [
      "12\n",
      "Error:Age must be 18+ for voting\n"
     ]
    }
   ],
   "source": [
    "try:\n",
    "    age = int(input(\"Enter age:(must be 18+ for voting)\"))\n",
    "    print(age)\n",
    "    if age < 18:\n",
    "        raise Exception(\"Error:Age must be 18+ for voting\")\n",
    "    else:\n",
    "        print(\"You can vote now\")\n",
    "except Exception as e:\n",
    "    print(e)"
   ]
  },
  {
   "cell_type": "markdown",
   "metadata": {},
   "source": [
    "### 02) WAP to raise your custom Exception."
   ]
  },
  {
   "cell_type": "code",
   "execution_count": 13,
   "metadata": {},
   "outputs": [
    {
     "name": "stdout",
     "output_type": "stream",
     "text": [
      "Invalid: -1\n",
      "Error:Number is negative\n"
     ]
    }
   ],
   "source": [
    "#Negative number exception\n",
    "class NegativeNumberException(Exception):\n",
    "    def __init__(self,arg):\n",
    "        self.arg = arg;\n",
    "try:\n",
    "    a = int(input(\"Enter positive number:\"))\n",
    "    if a > 0:\n",
    "        print(\"Valid:\",a)\n",
    "    else:\n",
    "        print(\"Invalid:\",a)\n",
    "        raise NegativeNumberException(\"Error:Number is negative\")\n",
    "except NegativeNumberException as e:\n",
    "    print(e)"
   ]
  }
 ],
 "metadata": {
  "kernelspec": {
   "display_name": "Python 3 (ipykernel)",
   "language": "python",
   "name": "python3"
  },
  "language_info": {
   "codemirror_mode": {
    "name": "ipython",
    "version": 3
   },
   "file_extension": ".py",
   "mimetype": "text/x-python",
   "name": "python",
   "nbconvert_exporter": "python",
   "pygments_lexer": "ipython3",
   "version": "3.12.2"
  }
 },
 "nbformat": 4,
 "nbformat_minor": 4
}
