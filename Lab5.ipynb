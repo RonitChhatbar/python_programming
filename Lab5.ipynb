{
 "cells": [
  {
   "cell_type": "markdown",
   "metadata": {},
   "source": [
    "\n",
    "<a href='https://www.darshan.ac.in/'> <img src='https://www.darshan.ac.in/Content/media/DU_Logo.svg' width=\"250\" height=\"300\"/></a>\n",
    "<pre>\n",
    "<center><b><h1>Python Programming - 2101CS405</b></center>\n",
    "<center><b><h1>Lab - 5</b></center>    \n",
    "<pre>"
   ]
  },
  {
   "cell_type": "markdown",
   "metadata": {},
   "source": [
    "# list"
   ]
  },
  {
   "cell_type": "markdown",
   "metadata": {},
   "source": [
    "### 01) WAP to find sum of all the elements in List."
   ]
  },
  {
   "cell_type": "code",
   "execution_count": 27,
   "metadata": {},
   "outputs": [
    {
     "name": "stdout",
     "output_type": "stream",
     "text": [
      "Enter a list of numbers separated by spaces: 1 2 3 4 5\n",
      "list: [1, 2, 3, 4, 5]\n",
      "sum 15\n"
     ]
    }
   ],
   "source": [
    "n = input(\"Enter a list of numbers separated by spaces: \")\n",
    "li = [int(i) for i in n.split()]\n",
    "print(\"list:\",li)\n",
    "sum = 0 \n",
    "for i in li:\n",
    "    sum = sum + i\n",
    "print(\"sum\",sum)"
   ]
  },
  {
   "cell_type": "markdown",
   "metadata": {},
   "source": [
    "### 02) WAP to find largest element in a List."
   ]
  },
  {
   "cell_type": "code",
   "execution_count": 2,
   "metadata": {},
   "outputs": [
    {
     "name": "stdout",
     "output_type": "stream",
     "text": [
      "[2, 41, 3, -1, 34]\n",
      "41\n"
     ]
    }
   ],
   "source": [
    "a = []\n",
    "\n",
    "n=int(input(\"Enter no. of elements:\"))\n",
    "for i in range(1,n+1):\n",
    "    b=int(input(\"Enter values:\"))\n",
    "    a.append(b)\n",
    "print(a)\n",
    "\n",
    "a.sort()\n",
    "print(a.pop())"
   ]
  },
  {
   "cell_type": "markdown",
   "metadata": {},
   "source": [
    "### 03) WAP to split the List into two and append the first part to the end."
   ]
  },
  {
   "cell_type": "code",
   "execution_count": 7,
   "metadata": {},
   "outputs": [
    {
     "name": "stdout",
     "output_type": "stream",
     "text": [
      "[4, 5, 6, 1, 2, 3]\n"
     ]
    }
   ],
   "source": [
    "### type-1 ###\n",
    "\n",
    "a = [1,2,3,4,5,6]\n",
    "\n",
    "l=len(a)\n",
    "# print(l)\n",
    "mid = l//2\n",
    "# print(mid)\n",
    "b=a[mid:l]\n",
    "b.extend(a[0:mid])\n",
    "\n",
    "print(b)"
   ]
  },
  {
   "cell_type": "code",
   "execution_count": 9,
   "metadata": {},
   "outputs": [
    {
     "name": "stdout",
     "output_type": "stream",
     "text": [
      "['Hello', False, [1, 2, 3], 99, 121, True]\n"
     ]
    }
   ],
   "source": [
    "### type-2 ###\n",
    "a = [99,121,True,\"Hello\",False,[1,2,3]]\n",
    "print(a[mid:l]+a[0:mid])"
   ]
  },
  {
   "cell_type": "markdown",
   "metadata": {},
   "source": [
    "### 04) WAP to interchange first and last elements in list entered by a user."
   ]
  },
  {
   "cell_type": "code",
   "execution_count": 14,
   "metadata": {},
   "outputs": [
    {
     "name": "stdout",
     "output_type": "stream",
     "text": [
      "[3, 2, 1]\n"
     ]
    }
   ],
   "source": [
    "n = input(\"Enter a list of numbers separated by spaces: \")\n",
    "li = [int(i) for i in n.split()]\n",
    "\n",
    "if len(li) >= 2:\n",
    "    temp = li[0]\n",
    "    li[0] = li[-1]\n",
    "    li[-1] = temp\n",
    "    print(li)\n",
    "else:\n",
    "    print(\"Please enter at least two elements.\")"
   ]
  },
  {
   "cell_type": "markdown",
   "metadata": {},
   "source": [
    "### 05) WAP to interchange the elements on two positions entered by a user."
   ]
  },
  {
   "cell_type": "code",
   "execution_count": 9,
   "metadata": {},
   "outputs": [
    {
     "name": "stdout",
     "output_type": "stream",
     "text": [
      "Enter elements separated by spaces: 1 2 3\n",
      "Original List: [1, 2, 3]\n",
      "Enter the first position to swap: 1\n",
      "Enter the second position to swap: 2\n",
      "ans: [1, 3, 2]\n"
     ]
    }
   ],
   "source": [
    "n = input(\"Enter elements separated by spaces: \")\n",
    "li = [int(i) for i in n.split()]\n",
    "print(\"Original List:\", li)\n",
    "\n",
    "position1 = int(input(\"Enter the first position to swap: \"))\n",
    "position2 = int(input(\"Enter the second position to swap: \"))\n",
    "\n",
    "if 0 <= position1 < len(li) and 0 <= position2 < len(li):\n",
    "    temp = li[position1]\n",
    "    li[position1] = li[position2]\n",
    "    li[position2] = temp\n",
    "    print(\"ans:\",li)\n",
    "else:\n",
    "    print(\"Invalid position.\")"
   ]
  },
  {
   "cell_type": "markdown",
   "metadata": {},
   "source": [
    "### 06) WAP to reverses the list entered by user."
   ]
  },
  {
   "cell_type": "code",
   "execution_count": 11,
   "metadata": {},
   "outputs": [
    {
     "name": "stdout",
     "output_type": "stream",
     "text": [
      "Enter elements of the list separated by spaces: 1 2 3\n",
      "Reversed list: ['3', '2', '1']\n"
     ]
    }
   ],
   "source": [
    "# a = [1,2,3]\n",
    "# b=a[::-1]\n",
    "# print(b)\n",
    "\n",
    "\n",
    "l = input(\"Enter elements of the list separated by spaces: \").split()\n",
    "rev = l[::-1]\n",
    "print(\"Reversed list:\", rev)\n"
   ]
  },
  {
   "cell_type": "markdown",
   "metadata": {},
   "source": [
    "### 07) Python program to remove multiple elements from a list using list comprehension"
   ]
  },
  {
   "cell_type": "code",
   "execution_count": 2,
   "metadata": {},
   "outputs": [
    {
     "name": "stdout",
     "output_type": "stream",
     "text": [
      "Enter elements separated by spaces: 10 20 45 10 54 20 10\n",
      "List: [10, 20, 45, 10, 54, 20, 10]\n",
      "[10, 20, 10, 54, 20, 10]\n"
     ]
    }
   ],
   "source": [
    "n = input(\"Enter elements separated by spaces: \")\n",
    "li = [int(i) for i in n.split()]\n",
    "print(\"List:\", li)\n",
    "\n",
    "li = [item for item in li if item % 2 == 0]\n",
    "print(li)"
   ]
  },
  {
   "cell_type": "markdown",
   "metadata": {},
   "source": [
    "### 08) Create a list from the specified start to end index of another list."
   ]
  },
  {
   "cell_type": "code",
   "execution_count": 55,
   "metadata": {},
   "outputs": [
    {
     "name": "stdout",
     "output_type": "stream",
     "text": [
      "Enter elements separated by spaces: 1 2 3 4 5\n",
      "List: [1, 2, 3, 4, 5]\n",
      "Enter the first position:2\n",
      "Enter the second position:4\n",
      "[3, 4]\n"
     ]
    }
   ],
   "source": [
    "n = input(\"Enter elements separated by spaces: \")\n",
    "li = [int(i) for i in n.split()]\n",
    "print(\"List:\", li)\n",
    "\n",
    "position1 = int(input(\"Enter the first position:\"))\n",
    "position2 = int(input(\"Enter the second position:\"))\n",
    "\n",
    "temp = li[position1:position2]\n",
    "print(temp)\n"
   ]
  },
  {
   "cell_type": "markdown",
   "metadata": {},
   "source": [
    "### 09) Input comma separated elements, convert into list and print."
   ]
  },
  {
   "cell_type": "code",
   "execution_count": 58,
   "metadata": {},
   "outputs": [
    {
     "name": "stdout",
     "output_type": "stream",
     "text": [
      "Enter elements by coma separated:1,2,3,4\n",
      "1,2,3,4\n",
      "['1', '2', '3', '4']\n"
     ]
    }
   ],
   "source": [
    "a = input(\"Enter elements by coma separated:\")\n",
    "print(a)\n",
    "\n",
    "x = a.split(\",\")\n",
    "print(x)"
   ]
  },
  {
   "cell_type": "markdown",
   "metadata": {},
   "source": [
    "### 01) WAP to count Even and Odd numbers in a List."
   ]
  },
  {
   "cell_type": "code",
   "execution_count": 1,
   "metadata": {},
   "outputs": [
    {
     "name": "stdout",
     "output_type": "stream",
     "text": [
      "Real list: [1, 2, 3, 4, 5, 6, 7, 8, 9]\n",
      "Even list: [2, 4, 6, 8]\n",
      "even count 4\n",
      "Odd list: [1, 3, 5, 7, 9]\n",
      "odd count 5\n"
     ]
    }
   ],
   "source": [
    "a = input(\"Enter elements with space:\")\n",
    "li =[int(i) for i in a.split()]\n",
    "print(\"Real list:\",li)\n",
    "\n",
    "evenList = []\n",
    "oddList = []\n",
    "ce = 0\n",
    "co = 0\n",
    "\n",
    "for i in li:\n",
    "    if i % 2 == 0:\n",
    "        evenList.append(i)\n",
    "        ce = ce + 1\n",
    "    else:\n",
    "        oddList.append(i)\n",
    "        co = co + 1\n",
    "\n",
    "print(\"Even list:\",evenList)\n",
    "print(\"even count\",ce)\n",
    "print(\"Odd list:\",oddList)\n",
    "print(\"odd count\",co)"
   ]
  },
  {
   "cell_type": "markdown",
   "metadata": {},
   "source": [
    "### 02) Python program to find N largest and smallest elements from the list"
   ]
  },
  {
   "cell_type": "code",
   "execution_count": 14,
   "metadata": {},
   "outputs": [
    {
     "name": "stdout",
     "output_type": "stream",
     "text": [
      "list: [1, 2, 3]\n",
      "N=3\n",
      "Smallest of N: [1, 2, 3]\n",
      "Largest of N: [1, 2, 3]\n"
     ]
    }
   ],
   "source": [
    "a = []\n",
    "\n",
    "n=int(input(\"Enter no. of elements:\"))\n",
    "for i in range(0,n):\n",
    "    b=int(input(\"enter elements:\"))\n",
    "    a.append(b)\n",
    "print(\"list:\",a)\n",
    "\n",
    "a.sort()\n",
    "N = int(input(\"Enter N:\"))\n",
    "print(f\"N={N}\")\n",
    "print(\"Smallest of N:\",a[0:N])\n",
    "print(\"Largest of N:\",a[n-N:n+1])"
   ]
  },
  {
   "cell_type": "code",
   "execution_count": 20,
   "metadata": {},
   "outputs": [],
   "source": [
    "\n",
    "# a = []\n",
    "\n",
    "# n = int(input(\"Enter no. of elements:\"))\n",
    "# for i in range(0, n):\n",
    "#     b = int(input(\"Enter element:\"))\n",
    "#     a.append(b)\n",
    "# print(\"List:\", a)\n",
    "\n",
    "# a.sort()\n",
    "# N = int(input(\"Enter N:\"))\n",
    "# print(f\"N={N}\")\n",
    "# print(\"Smallest of N:\", a[:N])\n",
    "# print(\"Largest of N:\", a[-N:])\n"
   ]
  },
  {
   "cell_type": "markdown",
   "metadata": {},
   "source": [
    "### 03) WAP to print duplicates from a list of integers"
   ]
  },
  {
   "cell_type": "code",
   "execution_count": 23,
   "metadata": {},
   "outputs": [
    {
     "name": "stdout",
     "output_type": "stream",
     "text": [
      "[23, 1, 23]\n",
      "[23]\n"
     ]
    }
   ],
   "source": [
    "a = []\n",
    "\n",
    "n = int(input(\"Enter number:\"))\n",
    "for i in range(0,n):\n",
    "    b=int(input())\n",
    "    a.append(b)\n",
    "temp=[]\n",
    "print(a)\n",
    "for i in a:\n",
    "    if a.count(i)>1 and i not in temp:\n",
    "        temp.append(i)\n",
    "print(temp)"
   ]
  }
 ],
 "metadata": {
  "kernelspec": {
   "display_name": "Python 3 (ipykernel)",
   "language": "python",
   "name": "python3"
  },
  "language_info": {
   "codemirror_mode": {
    "name": "ipython",
    "version": 3
   },
   "file_extension": ".py",
   "mimetype": "text/x-python",
   "name": "python",
   "nbconvert_exporter": "python",
   "pygments_lexer": "ipython3",
   "version": "3.11.5"
  }
 },
 "nbformat": 4,
 "nbformat_minor": 4
}
