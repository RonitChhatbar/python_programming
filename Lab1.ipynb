{
 "cells": [
  {
   "cell_type": "markdown",
   "metadata": {},
   "source": [
    "<a href='https://www.darshan.ac.in/'> <img src='https://www.darshan.ac.in/Content/media/DU_Logo.svg' width=\"250\" height=\"300\"/></a>\n",
    "<pre>\n",
    "<center><b><h1>Python Programming - 2101CS405</b></center>\n",
    "<center><b><h1>Lab - 1</b></center>    \n",
    "<pre>"
   ]
  },
  {
   "cell_type": "markdown",
   "metadata": {},
   "source": [
    "### 01) WAP to print “Hello World”"
   ]
  },
  {
   "cell_type": "code",
   "execution_count": 1,
   "metadata": {},
   "outputs": [
    {
     "name": "stdout",
     "output_type": "stream",
     "text": [
      "Hello World\n"
     ]
    }
   ],
   "source": [
    "print(\"Hello World\")"
   ]
  },
  {
   "cell_type": "markdown",
   "metadata": {},
   "source": [
    "### 02) WAP to print your address i) using single print ii) using multiple print"
   ]
  },
  {
   "cell_type": "code",
   "execution_count": 10,
   "metadata": {},
   "outputs": [
    {
     "name": "stdout",
     "output_type": "stream",
     "text": [
      "SINGLE:\n",
      "Rajkot, \n",
      "Sant kabir road,\n",
      "360003\n",
      "MULTIPLE:\n",
      "Rajkot,\n",
      "Sant kabir road,\n",
      "360003\n"
     ]
    }
   ],
   "source": [
    "print(\"SINGLE:\")\n",
    "print(\"Rajkot, \\nSant kabir road,\\n360003\")\n",
    "print(\"MULTIPLE:\")\n",
    "print(\"Rajkot,\")\n",
    "print(\"Sant kabir road,\")\n",
    "print(\"360003\")"
   ]
  },
  {
   "cell_type": "markdown",
   "metadata": {},
   "source": [
    "### 03) WAP to print addition of 2 numbers (without input function)"
   ]
  },
  {
   "cell_type": "code",
   "execution_count": 5,
   "metadata": {},
   "outputs": [
    {
     "name": "stdout",
     "output_type": "stream",
     "text": [
      "30\n"
     ]
    }
   ],
   "source": [
    "a = 20\n",
    "b = 10\n",
    "print(a+b)"
   ]
  },
  {
   "cell_type": "markdown",
   "metadata": {},
   "source": [
    "### 04) WAP to calculate and print average of 2 numbers (without input function)"
   ]
  },
  {
   "cell_type": "code",
   "execution_count": 8,
   "metadata": {},
   "outputs": [
    {
     "name": "stdout",
     "output_type": "stream",
     "text": [
      "10.0\n"
     ]
    }
   ],
   "source": [
    "a = 10\n",
    "b = 10\n",
    "print((a+b)/2)"
   ]
  },
  {
   "cell_type": "markdown",
   "metadata": {},
   "source": [
    "### 05) WAP to add two number entered by user."
   ]
  },
  {
   "cell_type": "code",
   "execution_count": 2,
   "metadata": {
    "scrolled": true
   },
   "outputs": [
    {
     "name": "stdout",
     "output_type": "stream",
     "text": [
      "1st:1\n",
      "2nd:1\n",
      "ans: 2\n"
     ]
    }
   ],
   "source": [
    "a = int(input(\"1st:\"))\n",
    "b = int(input(\"2nd:\"))\n",
    "\n",
    "print(\"ans:\",a+b)"
   ]
  },
  {
   "cell_type": "markdown",
   "metadata": {},
   "source": [
    "### 06) WAP to calculate simple interest."
   ]
  },
  {
   "cell_type": "code",
   "execution_count": 3,
   "metadata": {},
   "outputs": [
    {
     "name": "stdout",
     "output_type": "stream",
     "text": [
      "Enter p:1\n",
      "Enter r:1\n",
      "Enter n:1\n",
      "i =  0.01\n"
     ]
    }
   ],
   "source": [
    "p = int(input(\"Enter p:\"))\n",
    "r = int(input(\"Enter r:\"))\n",
    "n = int(input(\"Enter n:\"))\n",
    "print(\"i = \",(p*r*n/100))"
   ]
  },
  {
   "cell_type": "markdown",
   "metadata": {},
   "source": [
    "### 07) WAP Calculate Area and Circumfrence of Circle"
   ]
  },
  {
   "cell_type": "code",
   "execution_count": 13,
   "metadata": {},
   "outputs": [
    {
     "name": "stdout",
     "output_type": "stream",
     "text": [
      "Enter radius:2\n",
      "A = 12.56\n"
     ]
    }
   ],
   "source": [
    "pie = 3.14\n",
    "r = int(input(\"Enter radius:\"))\n",
    "print(\"A =\",(pie*r*r))"
   ]
  },
  {
   "cell_type": "markdown",
   "metadata": {},
   "source": [
    "### 08) WAP to print Multiplication table of given number without using loops."
   ]
  },
  {
   "cell_type": "code",
   "execution_count": 1,
   "metadata": {
    "scrolled": true
   },
   "outputs": [
    {
     "name": "stdout",
     "output_type": "stream",
     "text": [
      "Enter number:21\n",
      "21 * 1 = 21\n",
      "21 * 2 = 42\n",
      "21 * 3 = 63\n",
      "21 * 4 = 84\n",
      "21 * 5 = 105\n",
      "21 * 6 = 126\n",
      "21 * 7 = 147\n",
      "21 * 8 = 168\n",
      "21 * 9 = 189\n",
      "21 * 10 = 210\n"
     ]
    }
   ],
   "source": [
    "a = int(input(\"Enter number:\"))\n",
    "print(a,\"* 1 =\",a*1)\n",
    "print(a,\"* 2 =\",a*2)\n",
    "print(a,\"* 3 =\",a*3)\n",
    "print(a,\"* 4 =\",a*4)\n",
    "print(a,\"* 5 =\",a*5)\n",
    "print(a,\"* 6 =\",a*6)\n",
    "print(a,\"* 7 =\",a*7)\n",
    "print(a,\"* 8 =\",a*8)\n",
    "print(a,\"* 9 =\",a*9)\n",
    "print(a,\"* 10 =\",a*10)"
   ]
  },
  {
   "cell_type": "markdown",
   "metadata": {},
   "source": [
    "### 09) WAP to calculate Area of Triangle (hint: a = h * b * 0.5)"
   ]
  },
  {
   "cell_type": "code",
   "execution_count": 2,
   "metadata": {},
   "outputs": [
    {
     "name": "stdout",
     "output_type": "stream",
     "text": [
      "Enter h:21\n",
      "Enter b:1\n",
      "a = 10.5\n"
     ]
    }
   ],
   "source": [
    "h = int(input(\"Enter h:\"))\n",
    "b = int(input(\"Enter b:\"))\n",
    "print(\"a =\",(h*b*0.5))"
   ]
  },
  {
   "cell_type": "markdown",
   "metadata": {},
   "source": [
    "### 10) WAP to convert degree to Fahrenheit and vice versa."
   ]
  },
  {
   "cell_type": "code",
   "execution_count": 36,
   "metadata": {},
   "outputs": [
    {
     "name": "stdout",
     "output_type": "stream",
     "text": [
      "Enter 1 for ctof 2 for ftoc.1\n",
      "Enter c:0\n",
      "32.0\n"
     ]
    }
   ],
   "source": [
    "choice = int(input(\"Enter 1 for ctof 2 for ftoc.\"))\n",
    "if(choice==1):\n",
    "    c = int(input(\"Enter c:\"))\n",
    "    print((c * 9/5) + 32)\n",
    "elif(choice==2):\n",
    "    f = int(input(\"Enter f:\"))\n",
    "    print((f - 32) * 5/9)\n",
    "else:\n",
    "    print(\"Enter valid choice.\")"
   ]
  },
  {
   "cell_type": "markdown",
   "metadata": {},
   "source": [
    "11) WAP to calculate total marks and Percentage."
   ]
  },
  {
   "cell_type": "code",
   "execution_count": 2,
   "metadata": {},
   "outputs": [
    {
     "name": "stdout",
     "output_type": "stream",
     "text": [
      "Enter s1:75\n",
      "Enter s2:67\n",
      "Enter s3:89\n",
      "Total marks: 231\n",
      "Percentage 77.0 %\n"
     ]
    }
   ],
   "source": [
    "s1 = int(input(\"Enter s1:\"))\n",
    "s2 = int(input(\"Enter s2:\"))\n",
    "s3 = int(input(\"Enter s3:\"))\n",
    "\n",
    "tm = ((s1+s2+s3))\n",
    "print(\"Total marks:\",tm)\n",
    "pr = ((tm*100)/300)\n",
    "print(\"Percentage\",pr,\"%\")"
   ]
  },
  {
   "cell_type": "markdown",
   "metadata": {},
   "source": [
    "### 12) Compute distance between two points taking input from the user (Pythagorean Theorem)."
   ]
  },
  {
   "cell_type": "code",
   "execution_count": 7,
   "metadata": {
    "scrolled": true
   },
   "outputs": [
    {
     "name": "stdout",
     "output_type": "stream",
     "text": [
      "Enter a:334\n",
      "Enter b:2134\n",
      "Ans: 2159.979629533575\n"
     ]
    }
   ],
   "source": [
    "import math\n",
    "a = int(input(\"Enter a:\"))\n",
    "b = int(input(\"Enter b:\"))\n",
    "c = math.sqrt((a*a+b*b))\n",
    "print(\"Ans:\",c)"
   ]
  },
  {
   "cell_type": "markdown",
   "metadata": {},
   "source": [
    "### 13) WAP to convert seconds into hours, minutes & seconds and print in HH:MM:SS\n",
    "[e.g. 10000 seconds mean 2:46:40 (2 Hours, 46 Minutes, 40Seconds)]"
   ]
  },
  {
   "cell_type": "code",
   "execution_count": 6,
   "metadata": {},
   "outputs": [
    {
     "name": "stdout",
     "output_type": "stream",
     "text": [
      "0 : 1 : 40\n",
      "0 Hours, 1 Minutes, 40 Seconds\n",
      "0 Hours,1 Minutes,40 Seconds\n"
     ]
    }
   ],
   "source": [
    "\n",
    "seconds = int(input(\"Enter seconds:\"));\n",
    "minutes = int(seconds/60)\n",
    "hh = int(minutes/60)\n",
    "mm = int(minutes-(hh*60))\n",
    "ss = int(seconds-((hh*60*60)+(mm*60)))\n",
    "print(hh,\":\",mm,\":\",ss)\n",
    "print(hh,\"Hours,\",mm,\"Minutes,\",ss,\"Seconds\")\n",
    "print(f\"{hh} Hours,{mm} Minutes,{ss} Seconds\") #f-string"
   ]
  },
  {
   "cell_type": "markdown",
   "metadata": {},
   "source": [
    "### 14) WAP to enter distance into kilometer and convert it into meter, feet,inches, and centimeter"
   ]
  },
  {
   "cell_type": "code",
   "execution_count": 21,
   "metadata": {},
   "outputs": [
    {
     "name": "stdout",
     "output_type": "stream",
     "text": [
      "Enter kms:1\n",
      "Meters: 1000 \n",
      " Feet: 3281 \n",
      " Inches: 39370 \n",
      " Centimeters: 100000\n"
     ]
    }
   ],
   "source": [
    "km = int(input(\"Enter kms:\"))\n",
    "print(\"Meters:\",(km*1000),\"\\n Feet:\",(km*3281),\"\\n Inches:\",(km*39370),\"\\n Centimeters:\",(km*100000))"
   ]
  }
 ],
 "metadata": {
  "kernelspec": {
   "display_name": "Python 3 (ipykernel)",
   "language": "python",
   "name": "python3"
  },
  "language_info": {
   "codemirror_mode": {
    "name": "ipython",
    "version": 3
   },
   "file_extension": ".py",
   "mimetype": "text/x-python",
   "name": "python",
   "nbconvert_exporter": "python",
   "pygments_lexer": "ipython3",
   "version": "3.12.2"
  },
  "vscode": {
   "interpreter": {
    "hash": "31f2aee4e71d21fbe5cf8b01ff0e069b9275f58929596ceb00d14d90e3e16cd6"
   }
  }
 },
 "nbformat": 4,
 "nbformat_minor": 4
}
