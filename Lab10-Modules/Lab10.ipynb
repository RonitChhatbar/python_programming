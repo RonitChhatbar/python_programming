{
 "cells": [
  {
   "cell_type": "markdown",
   "metadata": {},
   "source": [
    "<a href='https://www.darshan.ac.in/'> <img src='https://www.darshan.ac.in/Content/media/DU_Logo.svg' width=\"250\" height=\"300\"/></a>\n",
    "<pre>\n",
    "<center><b><h1>Python Programming - 2101CS405</b></center>\n",
    "<center><b><h1>Lab - 10</b></center>    \n",
    "<pre>"
   ]
  },
  {
   "cell_type": "markdown",
   "metadata": {},
   "source": [
    "# Modules"
   ]
  },
  {
   "cell_type": "markdown",
   "metadata": {},
   "source": [
    "# A"
   ]
  },
  {
   "cell_type": "markdown",
   "metadata": {},
   "source": [
    "### 01) WAP to create Calculator module which defines functions like add, sub,mul and div. create another file that uses the Calculator module."
   ]
  },
  {
   "cell_type": "code",
   "execution_count": 2,
   "metadata": {},
   "outputs": [
    {
     "name": "stdout",
     "output_type": "stream",
     "text": [
      "Add: 5\n",
      "Sub: -1\n",
      "Mul: 6\n",
      "Div: 0.6666666666666666\n"
     ]
    }
   ],
   "source": [
    "import calc\n",
    "x = int(input(\"Enter 1st num:\"))\n",
    "y = int(input(\"Enter 2nd num:\"))\n",
    "\n",
    "print(\"Add:\",calc.add(x,y))\n",
    "print(\"Sub:\",calc.sub(x,y))\n",
    "print(\"Mul:\",calc.mul(x,y))\n",
    "print(\"Div:\",calc.div(x,y))\n"
   ]
  },
  {
   "cell_type": "markdown",
   "metadata": {},
   "source": [
    "### 02) WAP to Pick a random character from a given String."
   ]
  },
  {
   "cell_type": "code",
   "execution_count": 3,
   "metadata": {},
   "outputs": [
    {
     "name": "stdout",
     "output_type": "stream",
     "text": [
      "Char: t\n"
     ]
    }
   ],
   "source": [
    "\n",
    "import random as r\n",
    "a = \"Ronit\"\n",
    "print(\"Char:\",r.choice(a))"
   ]
  },
  {
   "cell_type": "markdown",
   "metadata": {},
   "source": [
    "### 03) WAP to Pick a random element from a given list."
   ]
  },
  {
   "cell_type": "code",
   "execution_count": 4,
   "metadata": {},
   "outputs": [
    {
     "name": "stdout",
     "output_type": "stream",
     "text": [
      "True\n"
     ]
    }
   ],
   "source": [
    "\n",
    "\n",
    "li = [\"str\",123,True]\n",
    "print(r.choice(li))\n",
    "\n"
   ]
  },
  {
   "cell_type": "markdown",
   "metadata": {},
   "source": [
    "### 04) WAP to demonstrate the use of the math module."
   ]
  },
  {
   "cell_type": "code",
   "execution_count": 41,
   "metadata": {},
   "outputs": [
    {
     "name": "stdout",
     "output_type": "stream",
     "text": [
      "2.718281828459045,3.141592653589793,inf,nan\n",
      "ceil: 5 floor: 4\n",
      "120\n",
      "15\n",
      "1213.2453499,1213.2453499,8.0,3.0\n",
      "0.8414709848078965,0.5403023058681398,1.5574077246549023\n"
     ]
    }
   ],
   "source": [
    "import math as m\n",
    "print(m.e,m.pi,m.inf,m.nan,sep=\",\")\n",
    "n=4.3\n",
    "print(\"ceil:\",m.ceil(n),\"floor:\",m.floor(n))\n",
    "num = 5\n",
    "print(m.factorial(num))\n",
    "a=15\n",
    "b=30\n",
    "print(m.gcd(a,b))\n",
    "r=-1213.2453499\n",
    "print(abs(r),m.fabs(r),m.pow(2,3),m.sqrt(9),sep=\",\")\n",
    "print(m.sin(1),m.cos(1),m.tan(1),sep=\",\")\n",
    "#showPPT for more"
   ]
  },
  {
   "cell_type": "markdown",
   "metadata": {},
   "source": [
    "### 05) WAP to demonstrate the use of date time module."
   ]
  },
  {
   "cell_type": "code",
   "execution_count": 2,
   "metadata": {},
   "outputs": [
    {
     "name": "stdout",
     "output_type": "stream",
     "text": [
      "date: 2004-08-21\n",
      "today  date: 2024-04-09\n",
      "d/m/y: 9 / 4 / 2024\n",
      "05:24:00\n",
      "hour: 3\n",
      "min: 30\n",
      "sec: 33\n",
      "mic.sec: 0\n",
      "2024-04-09 18:26:49.882894\n"
     ]
    }
   ],
   "source": [
    "import datetime as dt\n",
    "print(\"date:\",dt.date(2004,8,21))\n",
    "print(\"today  date:\",dt.date.today())\n",
    "print(\"d/m/y:\",dt.date.today().day,\"/\",dt.date.today().month,\"/\",dt.date.today().year)\n",
    "print(dt.time(5,24,00))\n",
    "print(\"hour:\",dt.time(3,30,33).hour)\n",
    "print(\"min:\",dt.time(3,30,33).minute)\n",
    "print(\"sec:\",dt.time(3,30,33).second)\n",
    "print(\"mic.sec:\",dt.time(3,30,33).microsecond)\n",
    "print(dt.datetime.now())\n"
   ]
  },
  {
   "cell_type": "code",
   "execution_count": 3,
   "metadata": {},
   "outputs": [
    {
     "name": "stdout",
     "output_type": "stream",
     "text": [
      "2024-04-09 18:26:54.258470___2024-04-11 18:26:54.258470___2 days, 0:00:00\n"
     ]
    }
   ],
   "source": [
    "#TimeDelta:\n",
    "today = dt.datetime.now()\n",
    "difference = today + dt.timedelta(days=2)\n",
    "total = difference - today\n",
    "print(today,difference,total,sep=\"___\")"
   ]
  },
  {
   "cell_type": "code",
   "execution_count": 7,
   "metadata": {},
   "outputs": [
    {
     "name": "stdout",
     "output_type": "stream",
     "text": [
      "1st: Saturday 08 21 2004\n",
      "2nd: Apr 04 24\n",
      "3rd: 6 PM 30\n",
      "4th: 18:30:30\n"
     ]
    }
   ],
   "source": [
    "\n",
    "import datetime as dt\n",
    "\n",
    "strr = str(input(\"enter date in yyyy-mm-dd format:\"))\n",
    "d1 = dt.datetime.strptime(strr, \"%Y-%m-%d\")\n",
    "\n",
    "today = dt.datetime.now()\n",
    "a = d1.strftime(\"%A %m %d %Y\")\n",
    "print(\"1st:\", a)\n",
    "\n",
    "s = today.strftime(\"%b %m %y\")\n",
    "print(\"2nd:\", s)\n",
    "\n",
    "s = today.strftime(\"%#I %p %S\")\n",
    "print(\"3rd:\", s)\n",
    "\n",
    "s = today.strftime(\"%H:%M:%S\")\n",
    "print(\"4th:\", s)\n"
   ]
  },
  {
   "cell_type": "markdown",
   "metadata": {},
   "source": [
    "# B"
   ]
  },
  {
   "cell_type": "markdown",
   "metadata": {},
   "source": [
    "### 01) WAP to Roll dice in such a way that every time you get the same number."
   ]
  },
  {
   "cell_type": "code",
   "execution_count": 158,
   "metadata": {},
   "outputs": [
    {
     "name": "stdout",
     "output_type": "stream",
     "text": [
      "You rolled: 5\n"
     ]
    }
   ],
   "source": [
    "import random as r\n",
    "li = [1, 2, 3, 4, 5, 6]\n",
    "roll_result = r.choice(li)\n",
    "r.seed(6)\n",
    "print(\"You rolled:\", roll_result)\n"
   ]
  },
  {
   "cell_type": "markdown",
   "metadata": {},
   "source": [
    "# 02) WAP to generate 3 random integers between 100 and 999 which is divisible by 5."
   ]
  },
  {
   "cell_type": "code",
   "execution_count": 194,
   "metadata": {},
   "outputs": [
    {
     "name": "stdout",
     "output_type": "stream",
     "text": [
      "[740, 140, 160]\n"
     ]
    }
   ],
   "source": [
    "random_ints = []\n",
    "for i in range(3):\n",
    "    while True:\n",
    "        num = r.randint(100,999)\n",
    "        if num % 5 == 0:\n",
    "            break;\n",
    "    random_ints.append(num)\n",
    "print(random_ints)\n"
   ]
  },
  {
   "cell_type": "markdown",
   "metadata": {},
   "source": [
    "### 03) WAP to generate 100 random lottery tickets and pick two lucky tickets from it as a winner."
   ]
  },
  {
   "cell_type": "code",
   "execution_count": 202,
   "metadata": {},
   "outputs": [
    {
     "name": "stdout",
     "output_type": "stream",
     "text": [
      "6043 6599\n"
     ]
    }
   ],
   "source": [
    "\n",
    "# import random as r\n",
    "# x = r.randint(0,100)\n",
    "# a = r.randint(1000,9999)\n",
    "# b = r.randint(1000,9999)\n",
    "# print(a,b)"
   ]
  },
  {
   "cell_type": "code",
   "execution_count": 212,
   "metadata": {},
   "outputs": [
    {
     "name": "stdout",
     "output_type": "stream",
     "text": [
      "Winners: [606557, 424709]\n"
     ]
    }
   ],
   "source": [
    "\n",
    "hundred_tickets = [r.randint(100000, 999999) for i in range(100)]\n",
    "winners = r.sample(hundred_tickets, 2)\n",
    "print(\"Winners:\", winners)\n"
   ]
  },
  {
   "cell_type": "markdown",
   "metadata": {},
   "source": [
    "### 04) WAP to print current date and time in Python."
   ]
  },
  {
   "cell_type": "code",
   "execution_count": 213,
   "metadata": {},
   "outputs": [
    {
     "name": "stdout",
     "output_type": "stream",
     "text": [
      "2024-02-26 20:22:55.344807\n"
     ]
    }
   ],
   "source": [
    "print(dt.datetime.now())"
   ]
  },
  {
   "cell_type": "markdown",
   "metadata": {},
   "source": [
    "### 05) Subtract a week (7 days) from a given date in Python."
   ]
  },
  {
   "cell_type": "code",
   "execution_count": 218,
   "metadata": {},
   "outputs": [
    {
     "name": "stdout",
     "output_type": "stream",
     "text": [
      "2024-02-19 20:28:12.679338\n"
     ]
    }
   ],
   "source": [
    "from datetime import datetime as dt,timedelta as td\n",
    "\n",
    "dateGiven = dt.now()\n",
    "result = dateGiven - td(days=7)\n",
    "print(result)"
   ]
  },
  {
   "cell_type": "markdown",
   "metadata": {},
   "source": [
    "### 06) WAP to Calculate number of days between two given dates."
   ]
  },
  {
   "cell_type": "code",
   "execution_count": 222,
   "metadata": {},
   "outputs": [
    {
     "name": "stdout",
     "output_type": "stream",
     "text": [
      "9 days\n"
     ]
    }
   ],
   "source": [
    "d1 = dt(2024,2,1)\n",
    "d2 = dt(2024,2,10)\n",
    "diff = (d2 - d1).days\n",
    "print(diff,\"days\")"
   ]
  },
  {
   "cell_type": "code",
   "execution_count": 224,
   "metadata": {},
   "outputs": [
    {
     "name": "stdout",
     "output_type": "stream",
     "text": [
      "6939 days\n",
      "2004-08-21 00:00:00/2023-08-21 00:00:00\n"
     ]
    }
   ],
   "source": [
    "str1 = input(\"1st:\")\n",
    "date1 = dt.strptime(str1,\"%Y-%m-%d\")\n",
    "\n",
    "str2 = input(\"2nd:\")\n",
    "date2 = dt.strptime(str2,\"%Y-%m-%d\")\n",
    "\n",
    "diffs = (date2 - date1).days\n",
    "\n",
    "print(diffs,\"days\")\n",
    "print(date1,date2,sep=\"/\")\n"
   ]
  },
  {
   "cell_type": "markdown",
   "metadata": {},
   "source": [
    "### 07) WAP to Find the day of the week of a given date."
   ]
  },
  {
   "cell_type": "code",
   "execution_count": 232,
   "metadata": {},
   "outputs": [
    {
     "name": "stdout",
     "output_type": "stream",
     "text": [
      "Saturday,2004-08-21 00:00:00\n"
     ]
    }
   ],
   "source": [
    "date_str = input(\"Enter:\")\n",
    "dateGiven = dt.strptime(date_str,\"%Y-%m-%d\")\n",
    "weekDays = dateGiven.weekday()\n",
    "weekDay = [\"Monday\", \"Tuesday\", \"Wednesday\", \"Thursday\", \"Friday\", \"Saturday\", \"Sunday\"]\n",
    "print(weekDay[weekDays],dateGiven,sep=\",\")"
   ]
  }
 ],
 "metadata": {
  "kernelspec": {
   "display_name": "Python 3 (ipykernel)",
   "language": "python",
   "name": "python3"
  },
  "language_info": {
   "codemirror_mode": {
    "name": "ipython",
    "version": 3
   },
   "file_extension": ".py",
   "mimetype": "text/x-python",
   "name": "python",
   "nbconvert_exporter": "python",
   "pygments_lexer": "ipython3",
   "version": "3.12.2"
  }
 },
 "nbformat": 4,
 "nbformat_minor": 4
}
