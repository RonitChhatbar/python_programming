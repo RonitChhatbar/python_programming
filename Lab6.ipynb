{
 "cells": [
  {
   "cell_type": "markdown",
   "metadata": {},
   "source": [
    "<a href='https://www.darshan.ac.in/'> <img src='https://www.darshan.ac.in/Content/media/DU_Logo.svg' width=\"250\" height=\"300\"/></a>\n",
    "<pre>\n",
    "<center><b><h1>Python Programming - 2101CS405</b></center>\n",
    "<center><b><h1>Lab - 6</b></center>    \n",
    "<pre>"
   ]
  },
  {
   "cell_type": "markdown",
   "metadata": {},
   "source": [
    "# Tuples, dictionary, set"
   ]
  },
  {
   "cell_type": "markdown",
   "metadata": {},
   "source": [
    "# A"
   ]
  },
  {
   "cell_type": "markdown",
   "metadata": {},
   "source": [
    "### 01) WAP to sort python dictionary by key or value."
   ]
  },
  {
   "cell_type": "code",
   "execution_count": 6,
   "metadata": {},
   "outputs": [
    {
     "name": "stdout",
     "output_type": "stream",
     "text": [
      "sort by keys: {1: 'z', 2: 'y', 3: 'x', 4: 'b', 5: 'a'}\n"
     ]
    }
   ],
   "source": [
    "#with keys\n",
    "\n",
    "dict1 = {3:'x',5:'a',1:'z',4:'b',2:'y'}\n",
    "a = list(dict1.keys())\n",
    "a.sort()\n",
    "sorted_keys = {}\n",
    "for i in a:\n",
    "    sorted_keys[i] = dict1[i]\n",
    "print(\"sort by keys:\",sorted_keys)"
   ]
  },
  {
   "cell_type": "code",
   "execution_count": 5,
   "metadata": {},
   "outputs": [
    {
     "name": "stdout",
     "output_type": "stream",
     "text": [
      "sort by values: {5: 'a', 4: 'b', 3: 'x', 2: 'y', 1: 'z'}\n"
     ]
    }
   ],
   "source": [
    "#with values\n",
    "\n",
    "dict1 = {3:'x',5:'a',1:'z',4:'b',2:'y'}\n",
    "a = list(dict1.values())\n",
    "a.sort()\n",
    "sorted_values = {}\n",
    "for i in a:\n",
    "    for j in dict1:\n",
    "        if (i == dict1[j]):\n",
    "            sorted_values[j]=i\n",
    "print(\"sort by values:\",sorted_values)"
   ]
  },
  {
   "cell_type": "markdown",
   "metadata": {},
   "source": [
    "### 02) WAP to merge two dictionaries given by user."
   ]
  },
  {
   "cell_type": "code",
   "execution_count": 6,
   "metadata": {},
   "outputs": [
    {
     "name": "stdout",
     "output_type": "stream",
     "text": [
      "{'a': 10, 'b': 20, 'c': 30, 'x': 11, 'y': 22, 'z': 33}\n"
     ]
    }
   ],
   "source": [
    "dict1 = {'a':10,'b':20,'c':30}\n",
    "dict2 = {'x':11,'y':22,'z':33}\n",
    "#'|':UNION OPERATOR\n",
    "dict3 = dict1 | dict2\n",
    "print(dict3)"
   ]
  },
  {
   "cell_type": "code",
   "execution_count": 15,
   "metadata": {},
   "outputs": [
    {
     "name": "stdout",
     "output_type": "stream",
     "text": [
      "Enter size:1\n",
      "Enter key:1\n",
      "Enter value:hi\n",
      "{'1': 'hi'}\n",
      "Enter key:2\n",
      "Enter value:hello\n",
      "{'2': 'hello'}\n",
      "merge: {'1': 'hi', '2': 'hello'}\n"
     ]
    }
   ],
   "source": [
    "#user input\n",
    "K_dict1 = {}\n",
    "K_dict2 = {}\n",
    "\n",
    "n=int(input(\"Enter size:\"))\n",
    "def putKvPairs():\n",
    "    for i in range(1,n+1):\n",
    "        key = input(\"Enter key:\")\n",
    "        value = input(\"Enter value:\")\n",
    "        K_dict1[key] = value\n",
    "    print(K_dict1)\n",
    "putKvPairs()\n",
    "\n",
    "def putKvPairs1():\n",
    "    for i in range(1,n+1):\n",
    "        key = input(\"Enter key:\")\n",
    "        value = input(\"Enter value:\")\n",
    "        K_dict2[key] = value\n",
    "    print(K_dict2)\n",
    "putKvPairs1()\n",
    "\n",
    "merge = K_dict1 | K_dict2\n",
    "print(\"merge:\",merge)"
   ]
  },
  {
   "cell_type": "markdown",
   "metadata": {},
   "source": [
    "### 03) WAP to find tuples that have all elements divisible by K from a list of tuples."
   ]
  },
  {
   "cell_type": "code",
   "execution_count": 37,
   "metadata": {},
   "outputs": [
    {
     "name": "stdout",
     "output_type": "stream",
     "text": [
      "[2, 4, 22, 44, 66]\n"
     ]
    }
   ],
   "source": [
    "listOfTuple = [(2,4),(3,99),(22,44,66)]\n",
    "k = 2\n",
    "result = []\n",
    "for tupleItem in listOfTuple:\n",
    "    # print(tupleItem)\n",
    "    for item in tupleItem:\n",
    "        # print(item)\n",
    "        if item % k == 0:\n",
    "            result.append(item)\n",
    "print(result)"
   ]
  },
  {
   "cell_type": "markdown",
   "metadata": {},
   "source": [
    "### 04) WAP to find Tuples with positive elements in List of tuples."
   ]
  },
  {
   "cell_type": "code",
   "execution_count": 41,
   "metadata": {},
   "outputs": [
    {
     "name": "stdout",
     "output_type": "stream",
     "text": [
      "[(6, 6, 6), (98, 776, 1)]\n"
     ]
    }
   ],
   "source": [
    "myTuple = [(1,-2,3),(6,6,6),(-112,23),(-1,-2,-999),(98,776,1)]\n",
    "result = []\n",
    "for tupItem in myTuple:\n",
    "    if all(item > 0 for item in tupItem):\n",
    "        result.append(tupItem)#why not item??????\n",
    "print(result)"
   ]
  },
  {
   "cell_type": "code",
   "execution_count": 45,
   "metadata": {},
   "outputs": [
    {
     "name": "stdout",
     "output_type": "stream",
     "text": [
      "[1, 3, 6, 6, 6, 23, 98, 776, 1]\n"
     ]
    }
   ],
   "source": [
    "myTuple = [(1,-2,3),(6,6,6),(-112,23),(-1,-2,-999),(98,776,1)]\n",
    "result = []\n",
    "for tupItem in myTuple:\n",
    "    for item in tupItem:\n",
    "        if item > 0:\n",
    "            result.append(item)\n",
    "print(result)"
   ]
  },
  {
   "cell_type": "code",
   "execution_count": 46,
   "metadata": {},
   "outputs": [
    {
     "name": "stdout",
     "output_type": "stream",
     "text": [
      "tuple_elements: (1, -2, 3, -4)\n",
      "positive elements: [1, 3]\n"
     ]
    }
   ],
   "source": [
    "a=[]\n",
    "my_tuple = (1,-2,3,-4)\n",
    "for tuple_item in my_tuple:\n",
    "    if tuple_item > 0:\n",
    "        a.append(tuple_item)\n",
    "print(\"tuple_elements:\",my_tuple)\n",
    "print(\"positive elements:\",a)"
   ]
  },
  {
   "cell_type": "markdown",
   "metadata": {},
   "source": [
    "### 05) WAP which perform union of two sets."
   ]
  },
  {
   "cell_type": "code",
   "execution_count": 47,
   "metadata": {},
   "outputs": [
    {
     "name": "stdout",
     "output_type": "stream",
     "text": [
      "{1, 2, 3, 5, 6}\n"
     ]
    }
   ],
   "source": [
    "a = {1,2,3}\n",
    "b = {1,5,6}\n",
    "print(a | b)"
   ]
  },
  {
   "cell_type": "markdown",
   "metadata": {},
   "source": [
    "# B"
   ]
  },
  {
   "cell_type": "markdown",
   "metadata": {},
   "source": [
    "### 01) WAP to convert binary tuple into integer."
   ]
  },
  {
   "cell_type": "code",
   "execution_count": 1,
   "metadata": {},
   "outputs": [
    {
     "name": "stdout",
     "output_type": "stream",
     "text": [
      "(1, 1, 0)\n",
      "6\n"
     ]
    }
   ],
   "source": [
    "bin_tup = (1,1,0)\n",
    "print(str(bin_tup))\n",
    "result = int(\"\".join( [str(i) for i in bin_tup] ),2) \n",
    "print(str(result))"
   ]
  },
  {
   "cell_type": "markdown",
   "metadata": {},
   "source": [
    "### 02) WAP to count frequency in list by dictionary."
   ]
  },
  {
   "cell_type": "code",
   "execution_count": 8,
   "metadata": {},
   "outputs": [
    {
     "name": "stdout",
     "output_type": "stream",
     "text": [
      "{'nissanGTR': 3, 'koenisegg': 2, 'BMW': 1, 'Astron martin': 1}\n"
     ]
    }
   ],
   "source": [
    "list = ['nissanGTR','koenisegg','nissanGTR','nissanGTR','BMW','koenisegg','Astron martin']\n",
    "d = {}\n",
    "\n",
    "for item in list:\n",
    "    d[item] = list.count(item)\n",
    "print(d)"
   ]
  },
  {
   "cell_type": "code",
   "execution_count": 48,
   "metadata": {},
   "outputs": [
    {
     "name": "stdout",
     "output_type": "stream",
     "text": [
      "{'abc': 2, 'pqr': 1, 'xyz': 1, 'bmw': 2}\n"
     ]
    }
   ],
   "source": [
    "list = ['abc','abc','pqr','xyz','bmw','bmw']\n",
    "dict = {}\n",
    "\n",
    "for i in list:\n",
    "    if i in dict:\n",
    "        #for increasing count in dictionary\n",
    "        dict[i] = dict[i] + 1\n",
    "        # print(dict)\n",
    "    else:\n",
    "        dict[i] = 1\n",
    "        # print(dict)\n",
    "print(dict) "
   ]
  },
  {
   "cell_type": "markdown",
   "metadata": {},
   "source": [
    "### 03) WAP to remove all the duplicate words from the list using dictionary."
   ]
  },
  {
   "cell_type": "code",
   "execution_count": 9,
   "metadata": {},
   "outputs": [
    {
     "name": "stdout",
     "output_type": "stream",
     "text": [
      "['abc', 'bmw', 'abc', 'batman', 'abc']\n",
      "['abc', 'bmw', 'batman']\n"
     ]
    }
   ],
   "source": [
    "l = ['abc','bmw','abc','batman','abc']\n",
    "print(l)\n",
    "d = {}\n",
    "result = []\n",
    "for i in l:\n",
    "    if i not in d:\n",
    "        d[i] = True\n",
    "        result.append(i)\n",
    "print(result)\n"
   ]
  }
 ],
 "metadata": {
  "kernelspec": {
   "display_name": "Python 3 (ipykernel)",
   "language": "python",
   "name": "python3"
  },
  "language_info": {
   "codemirror_mode": {
    "name": "ipython",
    "version": 3
   },
   "file_extension": ".py",
   "mimetype": "text/x-python",
   "name": "python",
   "nbconvert_exporter": "python",
   "pygments_lexer": "ipython3",
   "version": "3.12.2"
  }
 },
 "nbformat": 4,
 "nbformat_minor": 4
}
