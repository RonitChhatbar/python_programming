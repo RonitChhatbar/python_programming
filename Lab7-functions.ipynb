{
 "cells": [
  {
   "cell_type": "markdown",
   "metadata": {},
   "source": [
    "<a href='https://www.darshan.ac.in/'> <img src='https://www.darshan.ac.in/Content/media/DU_Logo.svg' width=\"250\" height=\"300\"/></a>\n",
    "<pre>\n",
    "<center><b><h1>Python Programming - 2101CS405</b></center>\n",
    "<center><b><h1>Lab - 7</b></center>    \n",
    "<pre>"
   ]
  },
  {
   "cell_type": "markdown",
   "metadata": {},
   "source": [
    "# Functions"
   ]
  },
  {
   "cell_type": "markdown",
   "metadata": {},
   "source": [
    "### 01) WAP to count simple interest using function."
   ]
  },
  {
   "cell_type": "code",
   "execution_count": 5,
   "metadata": {},
   "outputs": [
    {
     "name": "stdout",
     "output_type": "stream",
     "text": [
      "10.0\n"
     ]
    }
   ],
   "source": [
    "def simpleInt(p,r,n):\n",
    "    i = (p*r*n)/100;\n",
    "    print(i)\n",
    "simpleInt(p=int(input(\"Enter p:\")),\n",
    "        r=int(input(\"Enter r:\")),\n",
    "        n=int(input(\"Enter n:\")))"
   ]
  },
  {
   "cell_type": "markdown",
   "metadata": {},
   "source": [
    "### 02) WAP that defines a function to add first n numbers."
   ]
  },
  {
   "cell_type": "code",
   "execution_count": 2,
   "metadata": {},
   "outputs": [
    {
     "name": "stdout",
     "output_type": "stream",
     "text": [
      "55\n"
     ]
    }
   ],
   "source": [
    "\n",
    "def firstN(n):\n",
    "    sum = 0;\n",
    "    # print(n)\n",
    "    for i in range(1,n+1):\n",
    "        sum += i;\n",
    "    print(sum);\n",
    "firstN(n=int(input(\"Enter n:\")))\n"
   ]
  },
  {
   "cell_type": "markdown",
   "metadata": {},
   "source": [
    "### 03) WAP to find maximum number from given two numbers using function."
   ]
  },
  {
   "cell_type": "code",
   "execution_count": 18,
   "metadata": {},
   "outputs": [
    {
     "name": "stdout",
     "output_type": "stream",
     "text": [
      "1, 2\n",
      "2 max\n",
      "None\n"
     ]
    }
   ],
   "source": [
    "# in1 = int(input(\"Enter v1:\"))\n",
    "# in2 = int(input(\"Enter v2:\"))\n",
    "# maxValue = lambda v1,v2: print(f\"{v1} max\") if v1 > v2 else print(f\"{v2} max\")\n",
    "\n",
    "\n",
    "# print(f\"{in1},{in2}\")\n",
    "# print(maxValue(v1=in1,v2=in2))\n",
    "in1 = int(input(\"Enter v1:\"))\n",
    "in2 = int(input(\"Enter v2:\"))\n",
    "max_val = lambda v1, v2: print(f\"{v1} max\") if v1 > v2 else print(f\"{v2} max\")\n",
    "\n",
    "print(f\"{in1}, {in2}\")\n",
    "print(max_val(v1=in1, v2=in2))\n",
    "\n",
    "\n"
   ]
  },
  {
   "cell_type": "markdown",
   "metadata": {},
   "source": [
    "### 04) WAP that defines a function which returns 1 if the number is prime otherwise return 0."
   ]
  },
  {
   "cell_type": "code",
   "execution_count": 1,
   "metadata": {},
   "outputs": [
    {
     "name": "stdout",
     "output_type": "stream",
     "text": [
      "n: 14\n"
     ]
    },
    {
     "data": {
      "text/plain": [
       "0"
      ]
     },
     "execution_count": 1,
     "metadata": {},
     "output_type": "execute_result"
    }
   ],
   "source": [
    "n = int(input(\"Enter n:\"))\n",
    "print(\"n:\",n)\n",
    "def prime():\n",
    "    flag = 0;\n",
    "    if n < 2:\n",
    "        return 0;\n",
    "    for i in range(2,n):\n",
    "        if n%i == 0:\n",
    "            flag += 1\n",
    "    if flag == 0:\n",
    "        return 1;\n",
    "    else:\n",
    "        return 0;\n",
    "prime()"
   ]
  },
  {
   "cell_type": "markdown",
   "metadata": {},
   "source": [
    "### 05) Write a function called primes that takes an integer value as an argument and returns a list of all prime numbers up to that number."
   ]
  },
  {
   "cell_type": "code",
   "execution_count": 2,
   "metadata": {},
   "outputs": [
    {
     "name": "stdout",
     "output_type": "stream",
     "text": [
      "n: 13\n"
     ]
    },
    {
     "data": {
      "text/plain": [
       "[3, 5, 7, 11, 13]"
      ]
     },
     "execution_count": 2,
     "metadata": {},
     "output_type": "execute_result"
    }
   ],
   "source": [
    "n = int(input(\"Enter number : \"))\n",
    "print(\"n:\",n)\n",
    "def prime(n):\n",
    "    i=3\n",
    "    mylist=[]\n",
    "    while i<=n:\n",
    "        flag = 0\n",
    "        for j in range(1,i+1):\n",
    "            if i%j==0:\n",
    "                flag+=1\n",
    "        if flag == 2:\n",
    "            mylist.append(i)\n",
    "        i+=1\n",
    "    return mylist\n",
    "prime(n)\n"
   ]
  },
  {
   "cell_type": "markdown",
   "metadata": {},
   "source": [
    "### 06) WAP to generate Fibonacci series of N given number using function name fibbo. (e.g. 0 1 1 2 3 5 8...)"
   ]
  },
  {
   "cell_type": "code",
   "execution_count": 2,
   "metadata": {},
   "outputs": [
    {
     "name": "stdout",
     "output_type": "stream",
     "text": [
      "You entered: 15\n",
      "Fibonacci serise:\n",
      "0\n",
      "1\n",
      "1\n",
      "2\n",
      "3\n",
      "5\n",
      "8\n",
      "13\n",
      "21\n",
      "34\n",
      "55\n",
      "89\n",
      "144\n",
      "233\n",
      "377\n"
     ]
    }
   ],
   "source": [
    "n = int(input(\"Enter number : \"))\n",
    "print(\"You entered:\",n)\n",
    "list = []\n",
    "def Fibonacci(n):\n",
    "    if n<=1:\n",
    "        return n\n",
    "    else:\n",
    "        return(Fibonacci(n-1)+ Fibonacci(n-2))\n",
    "\n",
    "\n",
    "print(\"Fibonacci serise:\")\n",
    "for i in range(n):\n",
    "    list.append(i)\n",
    "    print(Fibonacci(i))\n"
   ]
  },
  {
   "cell_type": "markdown",
   "metadata": {},
   "source": [
    "### 07) WAP to find the factorial of a given number using recursion."
   ]
  },
  {
   "cell_type": "code",
   "execution_count": 7,
   "metadata": {},
   "outputs": [
    {
     "name": "stdout",
     "output_type": "stream",
     "text": [
      "n: 5\n",
      "Ans: 120\n"
     ]
    }
   ],
   "source": [
    "def fact(n):\n",
    "    if n>=1:\n",
    "        return n*fact(n-1)\n",
    "    else:\n",
    "        return 1\n",
    "    \n",
    "n = int(input(\"Enter n:\"))\n",
    "print(\"n:\",n)\n",
    "print(\"Ans:\",fact(n))\n",
    "    "
   ]
  },
  {
   "cell_type": "markdown",
   "metadata": {},
   "source": [
    "### 08) WAP to implement simple calculator using lamda function."
   ]
  },
  {
   "cell_type": "code",
   "execution_count": 33,
   "metadata": {},
   "outputs": [
    {
     "name": "stdout",
     "output_type": "stream",
     "text": [
      "x1: 1\n",
      "x2: 2\n",
      "Addition 3\n",
      "Substraction -1\n",
      "Multiplication 2\n",
      "Division 0.5\n",
      "(for exit)Enter valid choice between  1 to 4.\n"
     ]
    }
   ],
   "source": [
    "x1 = int(input(\"Enter x1:\"))\n",
    "x2 = int(input(\"Enter x2:\"))\n",
    "\n",
    "print(\"x1:\",x1)\n",
    "print(\"x2:\",x2)\n",
    "\n",
    "add = lambda x1,x2 : x1+x2\n",
    "sub = lambda x1,x2 : x1-x2\n",
    "mul = lambda x1,x2 : x1*x2\n",
    "div = lambda x1,x2 : x1/x2 if x2 != 0 else \"ZeroDivisionError\"\n",
    "\n",
    "\n",
    "while(True):\n",
    "    choice = int(input(\"Enter 1 for add\\n2 for sub\\n3 for mul\\n4 for div\\n\"))\n",
    "    if choice == 1:\n",
    "        print(\"Addition\",add(x1,x2))\n",
    "    elif choice == 2:\n",
    "        print(\"Substraction\",sub(x1,x2))\n",
    "    elif choice == 3:\n",
    "        print(\"Multiplication\",mul(x1,x2))\n",
    "    elif choice == 4:\n",
    "        print(\"Division\",div(x1,x2))\n",
    "    else:\n",
    "        print(\"(for exit)Enter valid choice between  1 to 4.\")\n",
    "        break;"
   ]
  },
  {
   "cell_type": "markdown",
   "metadata": {},
   "source": [
    "### 09)Write a Python program that accepts a hyphen-separated sequence of words as input and prints the words in a hyphen-separated sequence after sorting them alphabetically\n",
    "Sample Items : green-red-yellow-black-white <br>\n",
    "Expected Result : black-green-red-white-yellow"
   ]
  },
  {
   "cell_type": "code",
   "execution_count": 3,
   "metadata": {},
   "outputs": [
    {
     "name": "stdout",
     "output_type": "stream",
     "text": [
      "z-y-x-a\n",
      "a-x-y-z\n"
     ]
    }
   ],
   "source": [
    "def hyphenProgram(giveInput):\n",
    "    print(giveInput)\n",
    "    words = giveInput.split('-')\n",
    "    sorting = sorted(words)\n",
    "    result = '-'.join(sorting)\n",
    "    return result\n",
    "\n",
    "giveInput = input(\"Enter hyphen-separated seq. of words:\")\n",
    "\n",
    "result2 = hyphenProgram(giveInput)\n",
    "print(result2)"
   ]
  },
  {
   "cell_type": "markdown",
   "metadata": {},
   "source": [
    "### 10) Write a python program to implement all function arguments type\n",
    "Positional arguments <Br>\n",
    "Default argument <Br>\n",
    "Keyword arguments (named arguments) <Br>\n",
    "Arbitrary arguments (variable-length arguments args and kwargs)"
   ]
  },
  {
   "cell_type": "code",
   "execution_count": 46,
   "metadata": {},
   "outputs": [
    {
     "name": "stdout",
     "output_type": "stream",
     "text": [
      "positional: 3\n",
      "keyword: 300\n",
      "default: 101\n",
      "arbitrary(args): 2\n",
      "arbitrary(args): 30\n",
      "arbitrary(kwargs): 3\n"
     ]
    }
   ],
   "source": [
    "def addNumWithPositionalArgs(x,y):\n",
    "    return x + y\n",
    "print(\"positional:\",addNumWithPositionalArgs(1,2))\n",
    "\n",
    "def addNumWithKeywordArgs(x,y):\n",
    "    return x + y\n",
    "print(\"keyword:\",addNumWithKeywordArgs(y=100,x=200))\n",
    "\n",
    "def addNumWithDefaultArgs(x,y=100):\n",
    "    return x + y\n",
    "print(\"default:\",addNumWithDefaultArgs(1))\n",
    "\n",
    "def addNumWithArgsArbitrary(a, *b):\n",
    "    sum = a\n",
    "    for i in b:\n",
    "        sum = sum + i\n",
    "    return sum\n",
    "print(\"arbitrary(args):\",addNumWithArgsArbitrary(2),)\n",
    "print(\"arbitrary(args):\",addNumWithArgsArbitrary(10,10,10))\n",
    "\n",
    "def addNumWithKwargsArbitrary(**a):\n",
    "    sum = 0;\n",
    "    sum = a['a'] + a['b']\n",
    "    return sum\n",
    "    # for _ in a.items():\n",
    "    #     pass\n",
    "    # return a\n",
    "print(\"arbitrary(kwargs):\",addNumWithKwargsArbitrary(a=1,b=2,x=7))\n",
    "    "
   ]
  },
  {
   "cell_type": "markdown",
   "metadata": {},
   "source": [
    "### 01) WAP to calculate power of a number using recursion."
   ]
  },
  {
   "cell_type": "code",
   "execution_count": 3,
   "metadata": {},
   "outputs": [
    {
     "name": "stdout",
     "output_type": "stream",
     "text": [
      "2 ^ 3 : 8\n"
     ]
    }
   ],
   "source": [
    "def myPower(a,b):\n",
    "    if b == 0:\n",
    "        return 1\n",
    "    elif b < 0:\n",
    "        return 1 / (a * myPower(a,-b-1))\n",
    "    else:\n",
    "        return a * myPower(a,b-1)\n",
    "\n",
    "a = int(input(\"Enter base:\"))\n",
    "b = int(input(\"Enter exponent:\"))\n",
    "\n",
    "result = myPower(a,b)\n",
    "print(a,\"^\",b,\":\",result)"
   ]
  },
  {
   "cell_type": "markdown",
   "metadata": {},
   "source": [
    "### 02) WAP to count digits of a number using recursion."
   ]
  },
  {
   "cell_type": "code",
   "execution_count": 38,
   "metadata": {},
   "outputs": [
    {
     "name": "stdout",
     "output_type": "stream",
     "text": [
      "counts: 3 number: 765\n",
      "There are 3 digits in this->765\n"
     ]
    }
   ],
   "source": [
    "\n",
    "def countDigits(n):\n",
    "    if n == 0:\n",
    "        return 0\n",
    "    else:\n",
    "        return 1 + countDigits(n // 10)\n",
    "\n",
    "\n",
    "n = int(input(\"Enter num:\"))\n",
    "result = countDigits(n)\n",
    "print(\"counts:\",result,\"number:\",n)\n",
    "print(f\"There are {result} digits in this->{n}\")\n"
   ]
  },
  {
   "cell_type": "markdown",
   "metadata": {},
   "source": [
    "### 03) WAP to reverse an integer number using recursion."
   ]
  },
  {
   "cell_type": "code",
   "execution_count": 110,
   "metadata": {},
   "outputs": [],
   "source": [
    "# temp = \"\"\n",
    "# def reverseOfNumber(number):\n",
    "#     global temp\n",
    "#     if(number<10):\n",
    "#         temp = temp + str(number)\n",
    "#         return temp\n",
    "#     else:\n",
    "#         temp = temp + str(number%10)\n",
    "#         return reverseOfNumber(number//10)\n",
    "# number = int(input(\"enter the number :\"))\n",
    "# print(reverseOfNumber(number))"
   ]
  },
  {
   "cell_type": "code",
   "execution_count": 1,
   "metadata": {},
   "outputs": [
    {
     "data": {
      "text/plain": [
       "41"
      ]
     },
     "execution_count": 1,
     "metadata": {},
     "output_type": "execute_result"
    }
   ],
   "source": [
    "def rev_int(n):\n",
    "   return n if n < 10 else int(str(n%10) + str(rev_int(n//10)))\n",
    "n=int(input(\"Enter value:\"))\n",
    "rev_int(n)"
   ]
  },
  {
   "cell_type": "markdown",
   "metadata": {},
   "source": [
    "### 04) WAP to convert decimal number into binary using recursion."
   ]
  },
  {
   "cell_type": "code",
   "execution_count": 2,
   "metadata": {},
   "outputs": [
    {
     "data": {
      "text/plain": [
       "111"
      ]
     },
     "execution_count": 2,
     "metadata": {},
     "output_type": "execute_result"
    }
   ],
   "source": [
    "def dec2bin(n):\n",
    "    if n==0:\n",
    "        return 0\n",
    "    elif n==1:\n",
    "        return 1\n",
    "    else:\n",
    "        return int(str(dec2bin(n//2)) + str(n%2))\n",
    "n=int(input(\"Enter value:\"))\n",
    "dec2bin(n)"
   ]
  },
  {
   "cell_type": "code",
   "execution_count": 117,
   "metadata": {},
   "outputs": [],
   "source": [
    "# temp = \"\"\n",
    "# def decimalToBinary(number):\n",
    "#     global temp\n",
    "#     if(number<2):\n",
    "#         temp = temp + str(number%2)\n",
    "#         return temp[::-1]\n",
    "#     else:\n",
    "#         temp = temp + str(number%2)\n",
    "#         return decimalToBinary(number//2)\n",
    "# number = int(input(\"enter the number :\"))\n",
    "# print(decimalToBinary(number))"
   ]
  }
 ],
 "metadata": {
  "kernelspec": {
   "display_name": "Python 3 (ipykernel)",
   "language": "python",
   "name": "python3"
  },
  "language_info": {
   "codemirror_mode": {
    "name": "ipython",
    "version": 3
   },
   "file_extension": ".py",
   "mimetype": "text/x-python",
   "name": "python",
   "nbconvert_exporter": "python",
   "pygments_lexer": "ipython3",
   "version": "3.12.2"
  }
 },
 "nbformat": 4,
 "nbformat_minor": 4
}
