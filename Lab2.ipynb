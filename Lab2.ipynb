{
 "cells": [
  {
   "cell_type": "markdown",
   "metadata": {},
   "source": [
    "\n",
    "<a href='https://www.darshan.ac.in/'> <img src='https://www.darshan.ac.in/Content/media/DU_Logo.svg' width=\"250\" height=\"300\"/></a>\n",
    "<pre>\n",
    "<center><b><h1>Python Programming - 2101CS405</b></center>\n",
    "<center><b><h1>Lab - 2</b></center>    \n",
    "<pre>"
   ]
  },
  {
   "cell_type": "markdown",
   "metadata": {},
   "source": [
    "# if..else.."
   ]
  },
  {
   "cell_type": "markdown",
   "metadata": {},
   "source": [
    "### 01) WAP to check whether the given number is positive or negative."
   ]
  },
  {
   "cell_type": "code",
   "execution_count": 2,
   "metadata": {},
   "outputs": [
    {
     "name": "stdout",
     "output_type": "stream",
     "text": [
      "Enter number:-8\n",
      "negative\n"
     ]
    }
   ],
   "source": [
    "a = int(input(\"Enter number:\"));\n",
    "if(a < 0):\n",
    "    print(\"negative\");\n",
    "else:\n",
    "    print(\"positive\");"
   ]
  },
  {
   "cell_type": "markdown",
   "metadata": {},
   "source": [
    "### 02) WAP to check whether the given number is odd or even"
   ]
  },
  {
   "cell_type": "code",
   "execution_count": 4,
   "metadata": {},
   "outputs": [
    {
     "name": "stdout",
     "output_type": "stream",
     "text": [
      "Enter number:6\n",
      "Even\n"
     ]
    }
   ],
   "source": [
    "a = int(input(\"Enter number:\"));\n",
    "if(a%2==0):\n",
    "    print(\"Even\");\n",
    "else:\n",
    "    print(\"Odd\");"
   ]
  },
  {
   "cell_type": "markdown",
   "metadata": {},
   "source": [
    "### 03) WAP to find out largest number from given two numbers using simple if and ternary operator."
   ]
  },
  {
   "cell_type": "code",
   "execution_count": 6,
   "metadata": {},
   "outputs": [
    {
     "name": "stdout",
     "output_type": "stream",
     "text": [
      "Enter a:33\n",
      "Enter b:55\n",
      "55  is largest\n"
     ]
    }
   ],
   "source": [
    "a = int(input(\"Enter a:\"));\n",
    "b = int(input(\"Enter b:\"));\n",
    "if(a>b):\n",
    "    print(a,\" is largest\")\n",
    "else:\n",
    "    print(b,\" is largest\")"
   ]
  },
  {
   "cell_type": "code",
   "execution_count": 11,
   "metadata": {},
   "outputs": [
    {
     "name": "stdout",
     "output_type": "stream",
     "text": [
      "Enter a:4\n",
      "Enter b:1\n",
      "4  is large\n"
     ]
    }
   ],
   "source": [
    "a = int(input(\"Enter a:\"));\n",
    "b = int(input(\"Enter b:\"));\n",
    "print(a,\" is large\") if(a>b) else print(b,\" is large\");"
   ]
  },
  {
   "cell_type": "markdown",
   "metadata": {},
   "source": [
    "### 04) WAP to find out largest number from given three numbers."
   ]
  },
  {
   "cell_type": "code",
   "execution_count": 5,
   "metadata": {
    "scrolled": true
   },
   "outputs": [
    {
     "name": "stdout",
     "output_type": "stream",
     "text": [
      "12\n",
      "3\n",
      "1\n",
      "\n",
      "12  is large\n"
     ]
    }
   ],
   "source": [
    "\n",
    "a = int(input(\"Enter a:\"));\n",
    "b = int(input(\"Enter b:\"));\n",
    "c = int(input(\"Enter c:\"));\n",
    "print(f\"{a}\\n{b}\\n{c}\\n\")\n",
    "(print(a,\" is large\") if(a>c) else print(c,\" is large\")) if(a>b) else (print(b,\" is large\") if(b>c) else print(c,\" is large\"))"
   ]
  },
  {
   "cell_type": "markdown",
   "metadata": {},
   "source": [
    "### 05) WAP to check whether the given year is leap year or not.\n",
    "[If a year can be divisible by 4 but not divisible by 100 then it is leap year but if it is divisible by 400 then it is leap year]"
   ]
  },
  {
   "cell_type": "code",
   "execution_count": 23,
   "metadata": {},
   "outputs": [
    {
     "name": "stdout",
     "output_type": "stream",
     "text": [
      "Enter year:2000\n",
      "Leap year\n"
     ]
    }
   ],
   "source": [
    "y = int(input(\"Enter year:\"))\n",
    "if((y%4==0 and y%100!=0) or y%400==0):\n",
    "    print(\"Leap year\")\n",
    "else:\n",
    "    print(\"not\")"
   ]
  },
  {
   "cell_type": "markdown",
   "metadata": {},
   "source": [
    "### 06) WAP in python to display the name of the day according to the number given by the user"
   ]
  },
  {
   "cell_type": "code",
   "execution_count": 3,
   "metadata": {
    "scrolled": true
   },
   "outputs": [
    {
     "name": "stdout",
     "output_type": "stream",
     "text": [
      "Enter day:5\n",
      "Friday\n"
     ]
    }
   ],
   "source": [
    "day = int(input(\"Enter day:\"))\n",
    "\n",
    "if(day==1):\n",
    "    print(\"Monday\")\n",
    "elif(day==2):\n",
    "    print(\"Tuesday\")\n",
    "elif(day==3):\n",
    "    print(\"Wednesday\")\n",
    "elif(day==4):\n",
    "    print(\"Thursday\")\n",
    "elif(day==5):\n",
    "    print(\"Friday\")\n",
    "elif(day==6):\n",
    "    print(\"Saturday\")\n",
    "elif(day==7):\n",
    "    print(\"Sunday\")\n",
    "else:\n",
    "    print(\"not valid\")"
   ]
  },
  {
   "cell_type": "markdown",
   "metadata": {},
   "source": [
    "### 07) WAP to implement simple calculator which performs (add,sub,mul,div) of two no. based on user input."
   ]
  },
  {
   "cell_type": "code",
   "execution_count": 17,
   "metadata": {},
   "outputs": [
    {
     "name": "stdout",
     "output_type": "stream",
     "text": [
      "Enter a:2\n",
      "Enter b:1\n",
      "Enter choice:1.add,2.sub,3.mul,4.div\n",
      "1\n",
      "add: 3\n"
     ]
    }
   ],
   "source": [
    "a = int(input(\"Enter a:\"))\n",
    "b = int(input(\"Enter b:\"))\n",
    "c = int(input(\"Enter choice:1.add,2.sub,3.mul,4.div\\n\"))\n",
    "if(c==1):\n",
    "    print(\"add:\",a+b)\n",
    "elif(c==2):\n",
    "    print(\"sub:\",a-b)\n",
    "elif(c==3):\n",
    "    print(\"mul:\",a*b)\n",
    "elif(c==4):\n",
    "    print(\"div:\",a/b)\n",
    "else:\n",
    "    print(\"enter valid choice\")"
   ]
  },
  {
   "cell_type": "markdown",
   "metadata": {},
   "source": [
    "### 08) WAP to calculate electricity bill based on following criteria. Which takes the unit from the user.\n",
    "a. First 1 to 50 units – Rs. 2.60/unit</br>\n",
    "b. Next 50 to 100 units – Rs. 3.25/unit</br>\n",
    "c. Next 100 to 200 units – Rs. 5.26/unit</br>\n",
    "d. above 200 units – Rs. 8.45/unit"
   ]
  },
  {
   "cell_type": "code",
   "execution_count": 13,
   "metadata": {},
   "outputs": [
    {
     "name": "stdout",
     "output_type": "stream",
     "text": [
      "Enter unit: 234\n",
      "1105.8\n"
     ]
    }
   ],
   "source": [
    "unit=int(input(\"Enter unit: \"));\n",
    "ans=0;\n",
    "\n",
    "if(unit>=0 and unit<=50):\n",
    "    ans=unit*2.60;\n",
    "    \n",
    "elif(unit>=51 and unit<=100):\n",
    "    ans=((unit-50)*3.25)+(50*2.60);\n",
    "    \n",
    "elif(unit>=101 and unit<=200):\n",
    "    ans=((unit-100)*5.26)+(50*2.60)+(50*3.25);\n",
    "    \n",
    "else:\n",
    "    ans=((unit-200)*8.45)+(100*5.26)+(50*3.25)+(50*2.60);\n",
    "    \n",
    "print(ans)"
   ]
  },
  {
   "cell_type": "markdown",
   "metadata": {},
   "source": [
    "### 01) WAP to read marks of five subjects. Calculate percentage and print class accordingly. \n",
    "Fail below 35 </br>\n",
    "Pass Class between 35 to 45 </br>\n",
    "Second Class</br>\n",
    "between 45 to 60</br>\n",
    "First Class between 60 to 70</br> \n",
    "Distinction if more than 70"
   ]
  },
  {
   "cell_type": "code",
   "execution_count": 2,
   "metadata": {},
   "outputs": [
    {
     "name": "stdout",
     "output_type": "stream",
     "text": [
      "Enter s1:70\n",
      "Enter s2:80\n",
      "Enter s3:67\n",
      "Enter s4:70\n",
      "Enter s5:76\n",
      "Total: 363.0\n",
      "Percentage: 72.6\n",
      "Dist.\n"
     ]
    }
   ],
   "source": [
    "s1 = float(input(\"Enter s1:\"));\n",
    "s2 = float(input(\"Enter s2:\"));\n",
    "s3 = float(input(\"Enter s3:\"));\n",
    "s4 = float(input(\"Enter s4:\"));\n",
    "s5 = float(input(\"Enter s5:\"));\n",
    "\n",
    "total = s1+s2+s3+s4+s5;\n",
    "print(\"Total:\",total)\n",
    "\n",
    "per = (total*100)/500;\n",
    "print(\"Percentage:\",per)\n",
    "\n",
    "if(per<35):\n",
    "    print(\"Fail\");\n",
    "elif(per>35 and per<45):\n",
    "    print(\"Pass\");\n",
    "elif(per>45 and per<60):\n",
    "    print(\"Second\");\n",
    "elif(per>60 and per<70):\n",
    "    print(\"First\");\n",
    "else:\n",
    "    print(\"Dist.\");\n",
    "    "
   ]
  },
  {
   "cell_type": "markdown",
   "metadata": {},
   "source": [
    "### 02) WAP to find out the Maximum and Minimum number from given 4 numbers."
   ]
  },
  {
   "cell_type": "code",
   "execution_count": 6,
   "metadata": {},
   "outputs": [
    {
     "name": "stdout",
     "output_type": "stream",
     "text": [
      "Max= 4 , Min= 1\n",
      "Max=4,Min=1\n"
     ]
    }
   ],
   "source": [
    "a=int(input(\"Enter a:\"));\n",
    "b=int(input(\"Enter b:\"));\n",
    "c=int(input(\"Enter c:\"));\n",
    "d=int(input(\"Enter d:\"));\n",
    "\n",
    "max = a;\n",
    "min = a;\n",
    "\n",
    "if(b>max):\n",
    "    max = b;\n",
    "if(c>max):\n",
    "    max = c;\n",
    "if(d>max):\n",
    "    max = d;\n",
    "    \n",
    "if(b<min):\n",
    "    min = b;\n",
    "if(c<min):\n",
    "    min = c;\n",
    "if(d<min):\n",
    "    min = d;\n",
    "\n",
    "    \n",
    "print(\"Max=\",max,\",\",\"Min=\",min);\n",
    "print(f\"Max={max},Min={min}\")"
   ]
  },
  {
   "cell_type": "markdown",
   "metadata": {},
   "source": [
    "03) WAP to input an integer number and check the last digit of number is even or odd."
   ]
  },
  {
   "cell_type": "code",
   "execution_count": 4,
   "metadata": {},
   "outputs": [
    {
     "name": "stdout",
     "output_type": "stream",
     "text": [
      "Enter number:22\n",
      "Even\n"
     ]
    }
   ],
   "source": [
    "a = int(input(\"Enter number:\"));\n",
    "digit = a%10\n",
    "if (digit%2==0):\n",
    "    print(\"Even\");\n",
    "else:\n",
    "    print(\"Odd\");"
   ]
  },
  {
   "cell_type": "markdown",
   "metadata": {},
   "source": [
    "### 04) WAP to determine the roots of the equation ax2+bx+c=0."
   ]
  },
  {
   "cell_type": "code",
   "execution_count": 11,
   "metadata": {},
   "outputs": [
    {
     "name": "stdout",
     "output_type": "stream",
     "text": [
      "Enter a:1\n",
      "Enter b:5\n",
      "Enter c:6\n",
      "root1 and root2: -2.0 and -3.0\n"
     ]
    }
   ],
   "source": [
    "import math;\n",
    "a = int(input(\"Enter a:\"))\n",
    "b = int(input(\"Enter b:\"))\n",
    "c = int(input(\"Enter c:\"))\n",
    "\n",
    "d = ((math.pow(b,2))-(4*a*c))\n",
    "if(d > 0):\n",
    "    root1 = (-b + (math.sqrt(d)))/(2*a)\n",
    "    root2 = (-b - (math.sqrt(d)))/(2*a)\n",
    "    print(\"root1 and root2:\",root1,\"and\",root2)\n",
    "elif d == 0:\n",
    "    root = -b / (2*a)\n",
    "    print(\"root = root:\",root)\n",
    "elif d < 0:\n",
    "    root = (-b+(math.sqrt(-1*d)))/(2*a)\n",
    "    print(\"root1 and root2:\",root,\"i and -\",root)"
   ]
  }
 ],
 "metadata": {
  "kernelspec": {
   "display_name": "Python 3 (ipykernel)",
   "language": "python",
   "name": "python3"
  },
  "language_info": {
   "codemirror_mode": {
    "name": "ipython",
    "version": 3
   },
   "file_extension": ".py",
   "mimetype": "text/x-python",
   "name": "python",
   "nbconvert_exporter": "python",
   "pygments_lexer": "ipython3",
   "version": "3.12.2"
  }
 },
 "nbformat": 4,
 "nbformat_minor": 4
}
